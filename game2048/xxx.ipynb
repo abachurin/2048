{
 "cells": [
  {
   "cell_type": "code",
   "execution_count": 2,
   "metadata": {},
   "outputs": [
    {
     "name": "stdout",
     "output_type": "stream",
     "text": [
      "table of moves created\n"
     ]
    }
   ],
   "source": [
    "import numpy as np\n",
    "import random\n",
    "from game_logic import *\n",
    "import time\n",
    "from functools import partial"
   ]
  },
  {
   "cell_type": "code",
   "execution_count": 3,
   "metadata": {},
   "outputs": [],
   "source": [
    "def look_forward(game_init, depth=0, width=1, estimator=None):\n",
    "    best_score = -1\n",
    "    for direction in range(4):\n",
    "        for i in range(width):\n",
    "            game = game_init.copy()\n",
    "            game.new_tile()\n",
    "            change = game.move(direction)\n",
    "            if change:\n",
    "                if depth:\n",
    "                    score = look_forward(game, depth - 1, width)\n",
    "                else:\n",
    "                    score = game.score\n",
    "                best_score = max(score, best_score)\n",
    "    return best_score"
   ]
  },
  {
   "cell_type": "code",
   "execution_count": 4,
   "metadata": {},
   "outputs": [],
   "source": [
    "state = [[0, 0, 0, 0],\n",
    "         [0, 0, 0, 0],\n",
    "         [4, 3, 2, 1],\n",
    "         [1, 3, 1, 2]]"
   ]
  },
  {
   "cell_type": "code",
   "execution_count": 5,
   "metadata": {},
   "outputs": [
    {
     "name": "stdout",
     "output_type": "stream",
     "text": [
      "0\t\t\t\t0\t\t\t\t0\t\t\t\t0\n",
      "0\t\t\t\t0\t\t\t\t0\t\t\t\t0\n",
      "16\t\t\t\t8\t\t\t\t4\t\t\t\t2\n",
      "2\t\t\t\t8\t\t\t\t2\t\t\t\t4\n",
      " score = 0 odometer = 0\n",
      "14.0\n"
     ]
    }
   ],
   "source": [
    "a = Game(row=state)\n",
    "print(a)\n",
    "print(pairs_and_corners(a))"
   ]
  },
  {
   "cell_type": "code",
   "execution_count": null,
   "metadata": {},
   "outputs": [],
   "source": []
  },
  {
   "cell_type": "code",
   "execution_count": null,
   "metadata": {},
   "outputs": [],
   "source": [
    "'''\n",
    "est = estimator_lf(1, 2, evaluator=snake_eval)\n",
    "a = Game.trial_run(est)\n",
    "'''"
   ]
  },
  {
   "cell_type": "code",
   "execution_count": null,
   "metadata": {},
   "outputs": [],
   "source": []
  }
 ],
 "metadata": {
  "jupytext": {
   "cell_metadata_filter": "-all",
   "main_language": "python",
   "notebook_metadata_filter": "-all"
  },
  "kernelspec": {
   "display_name": "Python 3",
   "language": "python",
   "name": "python3"
  },
  "language_info": {
   "codemirror_mode": {
    "name": "ipython",
    "version": 3
   },
   "file_extension": ".py",
   "mimetype": "text/x-python",
   "name": "python",
   "nbconvert_exporter": "python",
   "pygments_lexer": "ipython3",
   "version": "3.6.5"
  }
 },
 "nbformat": 4,
 "nbformat_minor": 4
}
